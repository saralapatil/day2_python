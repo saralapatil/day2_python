{
  "nbformat": 4,
  "nbformat_minor": 0,
  "metadata": {
    "colab": {
      "private_outputs": true,
      "provenance": [],
      "include_colab_link": true
    },
    "kernelspec": {
      "name": "python3",
      "display_name": "Python 3"
    },
    "language_info": {
      "name": "python"
    }
  },
  "cells": [
    {
      "cell_type": "markdown",
      "metadata": {
        "id": "view-in-github",
        "colab_type": "text"
      },
      "source": [
        "<a href=\"https://colab.research.google.com/github/saralapatil/day2_python/blob/main/LinearRegression.ipynb\" target=\"_parent\"><img src=\"https://colab.research.google.com/assets/colab-badge.svg\" alt=\"Open In Colab\"/></a>"
      ]
    },
    {
      "cell_type": "code",
      "execution_count": null,
      "metadata": {
        "id": "g6EKAbGQuPjt"
      },
      "outputs": [],
      "source": [
        "'''\n",
        "i want code for machine learning for linear regression using sklearn in google colab\n",
        "step 1 - read the dataset BostonHousing.csv\n",
        "step 2 - divide the dataset into X, y by taking last column in y and other columns in X\n",
        "step 3 - divide data into train and test\n",
        "step 4 - train the model on data and select the parameters using grid search\n",
        "copy_X, is boolean\n",
        "positive, can be True or false\n",
        "n_jobs, can be None, or -1 or 1,2,3\n",
        "fit_intercept can be true or false\n",
        "step 5 - get best param and  test the model on data\n",
        "step 6 - print the linear regression model error on test data\n",
        "'''"
      ]
    },
    {
      "cell_type": "code",
      "source": [
        "# Import necessary libraries\n",
        "import pandas as pd\n",
        "from sklearn.model_selection import train_test_split, GridSearchCV\n",
        "from sklearn.linear_model import LinearRegression\n",
        "from sklearn.metrics import mean_squared_error\n",
        "from google.colab import files\n",
        "\n",
        "# Step 1: Read the dataset BostonHousing.csv\n",
        "uploaded = files.upload()\n",
        "\n",
        "# Load the dataset\n",
        "data = pd.read_csv(\"BostonHousing.csv\")\n",
        "\n",
        "# Step 2: Divide the dataset into X, y\n",
        "X = data.iloc[:, :-1]\n",
        "y = data.iloc[:, -1]\n",
        "\n",
        "# Step 3: Divide data into train and test\n",
        "X_train, X_test, y_train, y_test = train_test_split(X, y, test_size=0.2, random_state=42)\n",
        "\n",
        "# Step 4: Train the model on data and select the parameters using grid search\n",
        "params = {\n",
        "    'copy_X': [True, False],\n",
        "    'positive': [True, False],\n",
        "    'n_jobs': [None, -1, 1, 2, 3],\n",
        "    'fit_intercept': [True, False]\n",
        "}\n",
        "\n",
        "model = LinearRegression()\n",
        "grid_search = GridSearchCV(model, params, cv=5, verbose=2)\n",
        "grid_search.fit(X_train, y_train)\n",
        "\n",
        "# Step 5: Get best param and test the model on data\n",
        "best_params = grid_search.best_params_\n",
        "print(f\"Best Parameters: {best_params}\")\n",
        "\n",
        "# Evaluate the model on the test set\n",
        "best_model = grid_search.best_estimator_\n",
        "y_pred = best_model.predict(X_test)\n",
        "\n",
        "# Step 6: Print the linear regression model error on test data\n",
        "mse = mean_squared_error(y_test, y_pred)\n",
        "print(f\"Mean Squared Error on Test Data: {mse}\")\n",
        "\n",
        "'''\n",
        "Best Parameters: {'copy_X': True, 'fit_intercept': True, 'n_jobs': None, 'positive': False}\n",
        "\n",
        "Mean Squared Error on Test Data: 24.291119474973478\n",
        "'''"
      ],
      "metadata": {
        "id": "fb9_q5jw2WjC"
      },
      "execution_count": null,
      "outputs": []
    },
    {
      "cell_type": "markdown",
      "source": [
        "# Iris dataset"
      ],
      "metadata": {
        "id": "wwJImedj516x"
      }
    },
    {
      "cell_type": "code",
      "source": [
        "data_iris = pd.read_csv('/content/Iris.csv')\n",
        "data_iris"
      ],
      "metadata": {
        "id": "bWnMt4-q548D"
      },
      "execution_count": null,
      "outputs": []
    },
    {
      "cell_type": "code",
      "source": [
        "#classification problem because we have three posibilities\n",
        "data_iris['Species'].value_counts()"
      ],
      "metadata": {
        "id": "U1aM1Amb7FIp"
      },
      "execution_count": null,
      "outputs": []
    },
    {
      "cell_type": "code",
      "source": [
        "'''\n",
        "i want code for classification using logistic regression using sklearn in google colab\n",
        "step 1 - read the dataset Iris.csv\n",
        "step 2 - divide the dataset into X, y by taking last column in y and other columns in X ignore column Id\n",
        "step 3 - divide data into train and test\n",
        "step 3a - convert y from non numeric to numeric format\n",
        "step 4 - train the model on data and select the parameters using grid search\n",
        "\n",
        "penalty ‘l1’, ‘l2’, ‘elasticnet’, None\n",
        "dual is boolean\n",
        "C= between 1 and 10\n",
        "fit_intercept is boolean\n",
        "intercept_scaling=1, to 10\n",
        "class_weight is balanced or None\n",
        "\n",
        "warm_start is boolean\n",
        "n_jobs=None, -1,1,2,3\n",
        "l1_ratio= is between 0 to 1\n",
        "\n",
        "step 5 - get best param and  test the model on data\n",
        "step 6 - print the classification model error on test data\n",
        "'''"
      ],
      "metadata": {
        "id": "NY8k9h8h72X5"
      },
      "execution_count": null,
      "outputs": []
    },
    {
      "cell_type": "code",
      "source": [
        "# Import necessary libraries\n",
        "import pandas as pd\n",
        "from sklearn.model_selection import train_test_split, GridSearchCV\n",
        "from sklearn.linear_model import LogisticRegression\n",
        "from sklearn.metrics import classification_report\n",
        "from google.colab import files\n",
        "\n",
        "# Step 1: Read the dataset Iris.csv\n",
        "uploaded = files.upload()\n",
        "\n",
        "# Load the dataset\n",
        "data = pd.read_csv(\"Iris.csv\")\n",
        "\n",
        "# Step 2: Divide the dataset into X, y\n",
        "X = data.drop(['Id', 'Species'], axis=1)\n",
        "y = data['Species']\n",
        "\n",
        "# Step 3: Divide data into train and test\n",
        "X_train, X_test, y_train, y_test = train_test_split(X, y, test_size=0.2, random_state=42)\n",
        "\n",
        "# Step 3a: Convert y from non-numeric to numeric format\n",
        "y_train = y_train.astype('category').cat.codes\n",
        "y_test = y_test.astype('category').cat.codes\n",
        "\n",
        "# Step 4: Train the model on data and select the parameters using grid search\n",
        "params = {\n",
        "    'penalty': ['l1', 'l2', 'elasticnet', None],\n",
        "    'dual': [True, False],\n",
        "    'C': [i for i in range(1, 11)],\n",
        "    'fit_intercept': [True, False],\n",
        "    'intercept_scaling': [i for i in range(1, 11)],\n",
        "    'class_weight': ['balanced', None],\n",
        "    'warm_start': [True, False],\n",
        "    'n_jobs': [None, -1, 1, 2, 3],\n",
        "    'l1_ratio': [i/10 for i in range(11)]\n",
        "}\n",
        "\n",
        "model = LogisticRegression()\n",
        "grid_search = GridSearchCV(model, params, cv=5, verbose=2)\n",
        "grid_search.fit(X_train, y_train)\n",
        "\n",
        "# Step 5: Get best param and test the model on data\n",
        "best_params = grid_search.best_params_\n",
        "print(f\"Best Parameters: {best_params}\")\n",
        "\n",
        "# Evaluate the model on the test set\n",
        "best_model = grid_search.best_estimator_\n",
        "y_pred = best_model.predict(X_test)\n",
        "\n",
        "# Step 6: Print the classification report on test data\n",
        "report = classification_report(y_test, y_pred)\n",
        "print(f\"Classification Report:\\n{report}\")\n"
      ],
      "metadata": {
        "id": "H0wWL9pMAAPj"
      },
      "execution_count": null,
      "outputs": []
    }
  ]
}